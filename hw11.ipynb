{
 "cells": [
  {
   "cell_type": "code",
   "execution_count": 2,
   "metadata": {
    "scrolled": true
   },
   "outputs": [
    {
     "name": "stdout",
     "output_type": "stream",
     "text": [
      "                                                              0\n",
      "description   The film follows Anna Sasaki living with her r...\n",
      "director                                   Hiromasa Yonebayashi\n",
      "id                         5fdfb320-2a02-49a7-94ff-5ca418cae602\n",
      "locations            https://ghibliapi.herokuapp.com/locations/\n",
      "people                  https://ghibliapi.herokuapp.com/people/\n",
      "producer                                     Yoshiaki Nishimura\n",
      "release_date                                               2014\n",
      "rt_score                                                     92\n",
      "species       https://ghibliapi.herokuapp.com/species/af3910...\n",
      "title                                     When Marnie Was There\n",
      "url           https://ghibliapi.herokuapp.com/films/5fdfb320...\n",
      "vehicles              https://ghibliapi.herokuapp.com/vehicles/\n",
      "                                                              0\n",
      "description   A bamboo cutter named Sanuki no Miyatsuko disc...\n",
      "director                                          Isao Takahata\n",
      "id                         578ae244-7750-4d9f-867b-f3cd3d6fecf4\n",
      "locations            https://ghibliapi.herokuapp.com/locations/\n",
      "people                  https://ghibliapi.herokuapp.com/people/\n",
      "producer                                     Yoshiaki Nishimura\n",
      "release_date                                               2013\n",
      "rt_score                                                    100\n",
      "species       https://ghibliapi.herokuapp.com/species/af3910...\n",
      "title                           The Tale of the Princess Kaguya\n",
      "url           https://ghibliapi.herokuapp.com/films/578ae244...\n",
      "vehicles              https://ghibliapi.herokuapp.com/vehicles/\n",
      "                                                              0\n",
      "description   A lifelong love of flight inspires Japanese av...\n",
      "director                                         Hayao Miyazaki\n",
      "id                         67405111-37a5-438f-81cc-4666af60c800\n",
      "locations            https://ghibliapi.herokuapp.com/locations/\n",
      "people                  https://ghibliapi.herokuapp.com/people/\n",
      "producer                                          Toshio Suzuki\n",
      "release_date                                               2013\n",
      "rt_score                                                     89\n",
      "species       https://ghibliapi.herokuapp.com/species/af3910...\n",
      "title                                            The Wind Rises\n",
      "url           https://ghibliapi.herokuapp.com/films/67405111...\n",
      "vehicles              https://ghibliapi.herokuapp.com/vehicles/\n",
      "                                                              0\n",
      "description   The story is set in 1963 in Yokohama. Kokuriko...\n",
      "director                                          Gorō Miyazaki\n",
      "id                         45db04e4-304a-4933-9823-33f389e8d74d\n",
      "locations            https://ghibliapi.herokuapp.com/locations/\n",
      "people                  https://ghibliapi.herokuapp.com/people/\n",
      "producer                                          Toshio Suzuki\n",
      "release_date                                               2011\n",
      "rt_score                                                     83\n",
      "species       https://ghibliapi.herokuapp.com/species/af3910...\n",
      "title                                     From Up on Poppy Hill\n",
      "url           https://ghibliapi.herokuapp.com/films/45db04e4...\n",
      "vehicles              https://ghibliapi.herokuapp.com/vehicles/\n",
      "                                                              0\n",
      "description   14-year-old Arrietty and the rest of the Clock...\n",
      "director                                   Hiromasa Yonebayashi\n",
      "id                         2de9426b-914a-4a06-a3a0-5e6d9d3886f6\n",
      "locations            https://ghibliapi.herokuapp.com/locations/\n",
      "people                  https://ghibliapi.herokuapp.com/people/\n",
      "producer                                          Toshio Suzuki\n",
      "release_date                                               2010\n",
      "rt_score                                                     95\n",
      "species       https://ghibliapi.herokuapp.com/species/af3910...\n",
      "title                                                  Arrietty\n",
      "url           https://ghibliapi.herokuapp.com/films/2de9426b...\n",
      "vehicles              https://ghibliapi.herokuapp.com/vehicles/\n"
     ]
    }
   ],
   "source": [
    "import pandas as pd\n",
    "import requests\n",
    "\n",
    "input = [\"5fdfb320-2a02-49a7-94ff-5ca418cae602\", \"578ae244-7750-4d9f-867b-f3cd3d6fecf4\", \"67405111-37a5-438f-81cc-4666af60c800\", \"45db04e4-304a-4933-9823-33f389e8d74d\", \"2de9426b-914a-4a06-a3a0-5e6d9d3886f6\"]\n",
    "\n",
    "baseurl = \"https://ghibliapi.herokuapp.com/films/\"\n",
    "for id in input:\n",
    "    url = baseurl + id\n",
    "    r = requests.get(url, auth=('user', 'pass'))\n",
    "    result = pd.read_json(r.text, orient='index')\n",
    "    print(result)"
   ]
  },
  {
   "cell_type": "markdown",
   "metadata": {
    "collapsed": true
   },
   "source": [
    "# Documentation\n",
    "We imported pandas and requests library. Created an list of film ids (as strings), looped through the list and passed each id to the API. Then we parsed the resulting json using Pandas to output in pretty format.\n",
    "\n",
    "To change what film ids get passed to the API, modify the variable \"inputs\"."
   ]
  },
  {
   "cell_type": "code",
   "execution_count": null,
   "metadata": {
    "collapsed": true
   },
   "outputs": [],
   "source": []
  }
 ],
 "metadata": {
  "kernelspec": {
   "display_name": "Python 3",
   "language": "python",
   "name": "python3"
  },
  "language_info": {
   "codemirror_mode": {
    "name": "ipython",
    "version": 3
   },
   "file_extension": ".py",
   "mimetype": "text/x-python",
   "name": "python",
   "nbconvert_exporter": "python",
   "pygments_lexer": "ipython3",
   "version": "3.6.1"
  }
 },
 "nbformat": 4,
 "nbformat_minor": 2
}
