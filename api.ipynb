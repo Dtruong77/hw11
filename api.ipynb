{
 "cells": [
  {
   "cell_type": "code",
   "execution_count": 10,
   "metadata": {
    "scrolled": true
   },
   "outputs": [],
   "source": [
    "import json\n",
    "import requests\n",
    "\n",
    "input = [\"5fdfb320-2a02-49a7-94ff-5ca418cae602\", \"578ae244-7750-4d9f-867b-f3cd3d6fecf4\", \"67405111-37a5-438f-81cc-4666af60c800\", \"45db04e4-304a-4933-9823-33f389e8d74d\", \"2de9426b-914a-4a06-a3a0-5e6d9d3886f6\"]\n",
    "\n",
    "baseurl = \"https://ghibliapi.herokuapp.com/films/\"\n",
    "for id in input:\n",
    "    url = baseurl + id\n",
    "    r = requests.get(url, auth=('user', 'pass'))\n",
    "    r.json()"
   ]
  },
  {
   "cell_type": "code",
   "execution_count": null,
   "metadata": {
    "collapsed": true
   },
   "outputs": [],
   "source": []
  }
 ],
 "metadata": {
  "kernelspec": {
   "display_name": "Python 3",
   "language": "python",
   "name": "python3"
  },
  "language_info": {
   "codemirror_mode": {
    "name": "ipython",
    "version": 3
   },
   "file_extension": ".py",
   "mimetype": "text/x-python",
   "name": "python",
   "nbconvert_exporter": "python",
   "pygments_lexer": "ipython3",
   "version": "3.6.1"
  }
 },
 "nbformat": 4,
 "nbformat_minor": 2
}
