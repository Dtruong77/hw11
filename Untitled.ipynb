{
 "cells": [
  {
   "cell_type": "code",
   "execution_count": null,
   "metadata": {},
   "outputs": [],
   "source": [
    "import pandas as pd\n",
    "import requests\n",
    "\n",
    "input = [\"5fdfb320-2a02-49a7-94ff-5ca418cae602\", \"578ae244-7750-4d9f-867b-f3cd3d6fecf4\", \"67405111-37a5-438f-81cc-4666af60c800\", \"45db04e4-304a-4933-9823-33f389e8d74d\", \"2de9426b-914a-4a06-a3a0-5e6d9d3886f6\"]\n",
    "\n",
    "baseurl = \"https://ghibliapi.herokuapp.com/films/\"\n",
    "for id in input:\n",
    "    url = baseurl + id\n",
    "    r = requests.get(url, auth=('user', 'pass'))\n",
    "    result = pd.read_json(r.text, orient='index')\n",
    "    print(result)\n"
   ]
  },
  {
   "cell_type": "markdown",
   "metadata": {},
   "source": [
    "Documentation:\n",
    "We imported pandas and requests library. Created an list of film ids (as strings), looped through the list and passed each id to the API. Then we parsed the resulting json using Pandas to output in pretty format.\n",
    "\n",
    "To change what paramters are passed to the API, modify the varialbe \"input\"."
   ]
  }
 ],
 "metadata": {
  "kernelspec": {
   "display_name": "Python 3",
   "language": "python",
   "name": "python3"
  },
  "language_info": {
   "codemirror_mode": {
    "name": "ipython",
    "version": 3
   },
   "file_extension": ".py",
   "mimetype": "text/x-python",
   "name": "python",
   "nbconvert_exporter": "python",
   "pygments_lexer": "ipython3",
   "version": "3.6.2"
  }
 },
 "nbformat": 4,
 "nbformat_minor": 2
}
